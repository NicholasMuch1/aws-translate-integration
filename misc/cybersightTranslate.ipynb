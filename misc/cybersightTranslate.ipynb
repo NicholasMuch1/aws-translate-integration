{
 "cells": [
  {
   "cell_type": "code",
   "execution_count": null,
   "metadata": {},
   "outputs": [],
   "source": [
    "pip install requests"
   ]
  },
  {
   "cell_type": "code",
   "execution_count": 2,
   "metadata": {},
   "outputs": [],
   "source": [
    "import boto3\n",
    "import pandas as pd\n",
    "import ast\n",
    "from fastapi import FastAPI\n"
   ]
  },
  {
   "cell_type": "code",
   "execution_count": 11,
   "metadata": {},
   "outputs": [],
   "source": [
    "session = boto3.Session(profile_name='RecommenderTeam-416145492279', region_name='ap-southeast-1')"
   ]
  },
  {
   "cell_type": "code",
   "execution_count": 12,
   "metadata": {},
   "outputs": [],
   "source": [
    "\n",
    "app = FastAPI()\n",
    "\n",
    "@app.post(\"/translate\")\n",
    "def translate_text(text: str, target_language: str):\n",
    "    # Initialize AWS Translate client\n",
    "    client = session.client('translate')\n",
    "\n",
    "    # Translate the text\n",
    "    response = client.translate_text(\n",
    "        Text=text,\n",
    "        SourceLanguageCode='auto',\n",
    "        TargetLanguageCode=target_language\n",
    "    )\n",
    "\n",
    "    # Extract the translated text from the response\n",
    "    translated_text = response['TranslatedText']\n",
    "\n",
    "    return {\"translated_text\": translated_text}\n"
   ]
  },
  {
   "cell_type": "code",
   "execution_count": 1,
   "metadata": {},
   "outputs": [
    {
     "name": "stdout",
     "output_type": "stream",
     "text": [
      "Translated text: Glaucoma surgery for adolescents\n"
     ]
    }
   ],
   "source": [
    "import requests\n",
    "\n",
    "# Define the API endpoint URL\n",
    "api_url = 'http://localhost:8000/translate'  # Replace with the actual URL of your FastAPI server\n",
    "\n",
    "# Define the input parameters\n",
    "text = '青少年青光眼手术'\n",
    "target_language = 'en'\n",
    "\n",
    "# Define the headers\n",
    "headers = {\n",
    "    'accept-language': 'en-US,en;q=0.9',  # Replace with the appropriate language header value\n",
    "}\n",
    "\n",
    "# Make the API request\n",
    "response = requests.post(api_url, params={'text': text, 'target_language': target_language}, headers=headers)\n",
    "\n",
    "# Check the response status code\n",
    "if response.status_code == 200:\n",
    "    # Print the translated text\n",
    "    translated_text = response.json().get('translated_text')\n",
    "    print(f'Translated text: {translated_text}')\n",
    "else:\n",
    "    # Print the error message\n",
    "    error_message = response.json().get('detail')\n",
    "    print(f'Error: {error_message}')\n"
   ]
  }
 ],
 "metadata": {
  "kernelspec": {
   "display_name": "myenv",
   "language": "python",
   "name": "python3"
  },
  "language_info": {
   "codemirror_mode": {
    "name": "ipython",
    "version": 3
   },
   "file_extension": ".py",
   "mimetype": "text/x-python",
   "name": "python",
   "nbconvert_exporter": "python",
   "pygments_lexer": "ipython3",
   "version": "3.8.12"
  },
  "orig_nbformat": 4
 },
 "nbformat": 4,
 "nbformat_minor": 2
}
